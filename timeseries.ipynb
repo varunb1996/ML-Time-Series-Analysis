{
 "cells": [
  {
   "cell_type": "code",
   "execution_count": null,
   "id": "352a07fc",
   "metadata": {},
   "outputs": [],
   "source": [
    "import numpy as np\n",
    "import tensorflow as tf\n",
    "import pandas as pd\n",
    "import seaborn as sns \n",
    "from sklearn.preprocessing import MinMaxScaler\n",
    "import matplotlib.pyplot as plt"
   ]
  },
  {
   "cell_type": "code",
   "execution_count": null,
   "id": "75781595",
   "metadata": {},
   "outputs": [],
   "source": [
    "df = pd.read_csv('monthly-milk-production.csv',index_col='Month')\n",
    "df.index = pd.to_datetime(df.index)\n",
    "df.head(2)\n",
    "df.isnull().sum()\n",
    "df.info()\n",
    "scalar = MinMaxScaler()\n",
    "Train = df.head(156)\n",
    "Test = df.tail(12)\n",
    "Train_Scalar = scalar.fit_transform(Train)\n",
    "Test_Scalar = scalar.fit_transform(Test)"
   ]
  },
  {
   "cell_type": "code",
   "execution_count": null,
   "id": "15c64766",
   "metadata": {},
   "outputs": [],
   "source": [
    "def next_batch(training_data, batch_size, steps):\n",
    "    \n",
    "    # Grab a random starting point for each batch\n",
    "    rand_start = np.random.randint(0,len(training_data)-steps) \n",
    "\n",
    "    # Create Y data for time series in the batches\n",
    "    y_batch = np.array(training_data[rand_start:rand_start+steps+1]).reshape(1,steps+1)\n",
    "    \n",
    "    x_batch = y_batch[:, :-1].reshape(-1, steps, 1)    # Date  Shape Batch Timestep inputdim\n",
    "    y_batch = y_batch[:, 1:].reshape(-1, steps, 1)     # Price STock\n",
    "    return x_batch , y_batch "
   ]
  },
  {
   "cell_type": "code",
   "execution_count": null,
   "id": "d4866aa7",
   "metadata": {},
   "outputs": [],
   "source": [
    "num_inputs = 1\n",
    "num_time_steps = 12\n",
    "num_neurons = 100\n",
    "num_outputs = 1\n",
    "learning_rate = 0.01 \n",
    "num_train_iterations = 4000\n",
    "batch_size = 1\n",
    "\n",
    "X = tf.placeholder(tf.float32, [None, num_time_steps, num_inputs])\n",
    "y = tf.placeholder(tf.float32, [None, num_time_steps, num_outputs])\n",
    "\n",
    "\n",
    "# Also play around with GRUCell\n",
    "cell = tf.contrib.rnn.OutputProjectionWrapper(\n",
    "    tf.contrib.rnn.GRUCell(num_units=num_neurons, activation=tf.nn.relu),\n",
    "    output_size=num_outputs)\n",
    "\n",
    "output, state = tf.nn.dynamic_rnn(cell, X, dtype=tf.float32)\n",
    "\n",
    "loss = tf.reduce_mean(tf.square(output - y)) # MSE\n",
    "optimizer = tf.train.AdamOptimizer(learning_rate=learning_rate)\n",
    "train = optimizer.minimize(loss)\n",
    "init = tf.global_variables_initializer()\n",
    "\n",
    "saver = tf.train.Saver()\n",
    "\n",
    "\n",
    "with tf.Session() as sess:\n",
    "    sess.run(init)\n",
    "    \n",
    "    for iteration in range(num_train_iterations):\n",
    "        \n",
    "        X_batch, y_batch = next_batch(Train_Scalar, batch_size,num_time_steps)\n",
    "        sess.run(train, feed_dict={X: X_batch, y: y_batch})\n",
    "        \n",
    "        if iteration % 100 == 0:\n",
    "            \n",
    "            mse = loss.eval(feed_dict={X: X_batch, y: y_batch})\n",
    "            print(iteration, \"\\tMSE:\", mse)\n",
    "        saver.save(sess, \"./ex_time_series_soumil\")"
   ]
  },
  {
   "cell_type": "code",
   "execution_count": null,
   "id": "25671403",
   "metadata": {},
   "outputs": [],
   "source": [
    "with tf.Session() as sess:\n",
    "    saver.restore(sess, \"./ex_time_series_soumil\")\n",
    "    train_seed = list(Train_Scalar[-12:])\n",
    "\n",
    "    for iteration in range(12):\n",
    "        X_batch = np.array(train_seed[-num_time_steps:]).reshape(1, num_time_steps, 1)\n",
    "        y_pred = sess.run(output, feed_dict={X: X_batch})\n",
    "        train_seed.append(y_pred[0, -1, 0])"
   ]
  },
  {
   "cell_type": "code",
   "execution_count": null,
   "id": "1d30e000",
   "metadata": {},
   "outputs": [],
   "source": [
    "results = scalar.inverse_transform(np.array(train_seed[12:]).reshape(12,1))\n",
    "results\n",
    "Test[\"Predicted\"]  = results\n",
    "Test"
   ]
  },
  {
   "cell_type": "code",
   "execution_count": null,
   "id": "fae57a8d",
   "metadata": {},
   "outputs": [],
   "source": [
    "Test.plot()"
   ]
  },
  {
   "cell_type": "code",
   "execution_count": null,
   "id": "a9c25a32",
   "metadata": {},
   "outputs": [],
   "source": []
  }
 ],
 "metadata": {
  "kernelspec": {
   "display_name": "Python 3 (ipykernel)",
   "language": "python",
   "name": "python3"
  },
  "language_info": {
   "codemirror_mode": {
    "name": "ipython",
    "version": 3
   },
   "file_extension": ".py",
   "mimetype": "text/x-python",
   "name": "python",
   "nbconvert_exporter": "python",
   "pygments_lexer": "ipython3",
   "version": "3.10.5"
  }
 },
 "nbformat": 4,
 "nbformat_minor": 5
}
